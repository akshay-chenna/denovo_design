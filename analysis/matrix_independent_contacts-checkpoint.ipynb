{
 "cells": [
  {
   "cell_type": "markdown",
   "metadata": {},
   "source": [
    "** NOT important**\n",
    "# Generates a matrix of common dependent contacts\n",
    "## Does not consider  neighbours of contacts as contacts"
   ]
  },
  {
   "cell_type": "code",
   "execution_count": 5,
   "metadata": {},
   "outputs": [],
   "source": [
    "import numpy as np\n",
    "f = open('nsp12_nsp7/dependent_neighbors_in_contact.txt','r')\n",
    "lines = f.readlines()\n",
    "dependent_contacts = [l.strip().split(',') for l in lines]\n",
    "dependent_contacts = [np.array(list(map(int, i))) for i in dependent_contacts]\n",
    "residues = np.unique(np.hstack(dependent_contacts))\n",
    "dependent_contacts = [np.in1d(residues,i).nonzero()[0] for i in dependent_contacts]"
   ]
  },
  {
   "cell_type": "code",
   "execution_count": 3,
   "metadata": {},
   "outputs": [],
   "source": [
    "def savemat(infile):\n",
    "    f = open(infile,'r')\n",
    "    lines = f.readlines()\n",
    "    contacts = np.array([int(l.strip()) for l in lines])\n",
    "    common_contacts = np.intersect1d(residues,contacts)\n",
    "    common_contacts = np.in1d(residues,common_contacts).nonzero()[0]\n",
    "    dependent_common_contacts = [dependent_contacts[i] for i in common_contacts]\n",
    "    A = np.zeros([residues.size,residues.size])\n",
    "    for i in range(len(common_contacts)):\n",
    "        A[common_contacts[i],dependent_common_contacts[i]] = 1\n",
    "    A_ub = A[np.unique(np.nonzero(A)[0]),:][:,np.unique(np.nonzero(A)[1])]\n",
    "    np.savetxt(infile+str('.csv'), A_ub, fmt='%d')"
   ]
  },
  {
   "cell_type": "code",
   "execution_count": null,
   "metadata": {
    "scrolled": true
   },
   "outputs": [],
   "source": [
    "for vi in range(1,21):\n",
    "    for vj in range(1,5001):\n",
    "        savemat('contacts'+str(vi)+'/m'+str(vi)+'-'+str(vj)+'_nsp7rescontacts.txt')\n",
    "    print(vi)"
   ]
  },
  {
   "cell_type": "markdown",
   "metadata": {},
   "source": [
    "**This is important**\n",
    "# Generates a matrix of common dependent contacts\n",
    "## Also considers neighbours of contacts as contacts"
   ]
  },
  {
   "cell_type": "code",
   "execution_count": 55,
   "metadata": {},
   "outputs": [],
   "source": [
    "import numpy as np\n",
    "f1 = open('nsp12_nsp7/neighbors.txt','r') ## NOTE THAT This file MUST ALSO HAVE THE REFERENCE with which the neighbours are calculated. This is not output by deafult fro mdtraj, therefore pasted the reference index for which the neighbors are calculated in the first column.\n",
    "f2 = open('nsp12_nsp7/nsp7residues_in_contact.txt','r')\n",
    "l1 = f1.readlines()\n",
    "l2 = f2.readlines()\n",
    "\n",
    "neighbours = [l.strip().split(',') for l in l1]\n",
    "neighbours = [np.array(list(map(int,i))) for i in neighbours]\n",
    "nsp7_contacts = [int(l.strip()) for l in l2]\n",
    "contact_neighbours = [np.intersect1d(i,nsp7_contacts) for i in neighbours]\n",
    "pick_neighbours = np.array([i.size for i in contact_neighbours]).nonzero()\n",
    "dependent_contacts = [neighbours[i] for i in pick_neighbours[0]]\n",
    "residues = np.unique(np.hstack(dependent_contacts))\n",
    "ref_index = [i[0] for i in dependent_contacts]"
   ]
  },
  {
   "cell_type": "code",
   "execution_count": 57,
   "metadata": {},
   "outputs": [],
   "source": [
    "def savemat(infile):\n",
    "    f = open(infile,'r')\n",
    "    lines = f.readlines()\n",
    "    contacts = np.array([int(l.strip()) for l in lines])\n",
    "    common_contacts = np.intersect1d(ref_index,contacts)\n",
    "    if common_contacts.size == 0:\n",
    "        A_ub = np.empty(0)\n",
    "        np.savetxt(infile+str('_allneighbours.csv'), A_ub, fmt='%d')\n",
    "    else:\n",
    "        dependent_common_contacts = [dependent_contacts[np.where(ref_index==i)[0][0]] for i in common_contacts]\n",
    "        A = np.zeros([residues.max(),residues.max()])\n",
    "        for i in range(len(common_contacts)):\n",
    "            A[common_contacts[i]-1,dependent_common_contacts[i]-1] = 1\n",
    "        A_ub = A[common_contacts-1,:][:,common_contacts-1]\n",
    "        np.savetxt(infile+str('_allneighbours.csv'), A_ub, fmt='%d')"
   ]
  },
  {
   "cell_type": "code",
   "execution_count": 58,
   "metadata": {
    "scrolled": true
   },
   "outputs": [
    {
     "name": "stdout",
     "output_type": "stream",
     "text": [
      "1\n",
      "2\n",
      "3\n",
      "4\n",
      "5\n",
      "6\n",
      "7\n",
      "8\n",
      "9\n",
      "10\n",
      "11\n",
      "12\n",
      "13\n",
      "14\n",
      "15\n",
      "16\n",
      "17\n",
      "18\n",
      "19\n",
      "20\n"
     ]
    }
   ],
   "source": [
    "for vi in range(1,21):\n",
    "    for vj in range(1,5001):\n",
    "        savemat('contacts'+str(vi)+'/m'+str(vi)+'-'+str(vj)+'_nsp7rescontacts.txt')\n",
    "    print(vi)"
   ]
  },
  {
   "cell_type": "markdown",
   "metadata": {},
   "source": [
    "** Important **\n",
    "## nsp12-nsp7 independent contacts matrix"
   ]
  },
  {
   "cell_type": "code",
   "execution_count": 5,
   "metadata": {},
   "outputs": [],
   "source": [
    "import numpy as np\n",
    "f1 = open('nsp12_nsp7/neighbors.txt','r') ## NOTE THAT This file MUST ALSO HAVE THE REFERENCE with which the neighbours are calculated. This is not output by deafult fro mdtraj, therefore pasted the reference index for which the neighbors are calculated in the first column.\n",
    "f2 = open('nsp12_nsp7/nsp7residues_in_contact.txt','r')\n",
    "l1 = f1.readlines()\n",
    "l2 = f2.readlines()\n",
    "\n",
    "neighbours = [l.strip().split(',') for l in l1]\n",
    "neighbours = [np.array(list(map(int,i))) for i in neighbours]\n",
    "nsp7_contacts = [int(l.strip()) for l in l2]\n",
    "contact_neighbours = [np.intersect1d(i,nsp7_contacts) for i in neighbours]\n",
    "pick_neighbours = np.array([i.size for i in contact_neighbours]).nonzero()\n",
    "dependent_contacts = [neighbours[i] for i in pick_neighbours[0]]\n",
    "residues = np.unique(np.hstack(dependent_contacts))\n",
    "ref_index = [i[0] for i in dependent_contacts]\n",
    "\n",
    "common_contacts = np.array(ref_index)\n",
    "if common_contacts.size == 0:\n",
    "    A_ub = np.empty(0)\n",
    "    np.savetxt(infile+str('_allneighbours.csv'), A_ub, fmt='%d')\n",
    "else:\n",
    "    dependent_common_contacts = [dependent_contacts[np.where(ref_index==i)[0][0]] for i in common_contacts]\n",
    "    A = np.zeros([residues.max(),residues.max()])\n",
    "    for i in range(len(common_contacts)):\n",
    "        A[common_contacts[i]-1,dependent_common_contacts[i]-1] = 1\n",
    "    A_ub = A[common_contacts-1,:][:,common_contacts-1]\n",
    "np.savetxt('nsp12_nsp7/allneighbours.csv', A_ub, fmt='%d')"
   ]
  }
 ],
 "metadata": {
  "kernelspec": {
   "display_name": "Python 3",
   "language": "python",
   "name": "python3"
  },
  "language_info": {
   "codemirror_mode": {
    "name": "ipython",
    "version": 3
   },
   "file_extension": ".py",
   "mimetype": "text/x-python",
   "name": "python",
   "nbconvert_exporter": "python",
   "pygments_lexer": "ipython3",
   "version": "3.6.6"
  }
 },
 "nbformat": 4,
 "nbformat_minor": 2
}
